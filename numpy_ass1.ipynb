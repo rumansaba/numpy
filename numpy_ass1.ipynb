{
 "cells": [
  {
   "cell_type": "code",
   "execution_count": 1,
   "id": "5645140a-3045-441e-b6ca-6b28a916c93a",
   "metadata": {},
   "outputs": [],
   "source": [
    "#1. What is a Python library? Why ^o we use Python libraries?"
   ]
  },
  {
   "cell_type": "code",
   "execution_count": 2,
   "id": "b8cffdbe-ff66-4e17-84c0-bc698780ee22",
   "metadata": {},
   "outputs": [
    {
     "data": {
      "text/plain": [
       "'\\nA Python library is a collection of pre-written code and functions that \\nare bundled together for reuse by developers. These libraries are designed \\nto provide a set of tools and functionality to help developers solve \\ncommon problems, perform specific tasks, or implement certain features in\\ntheir Python programs. Libraries can be written in Python or in other \\nlanguages but accessible from Python through interfaces.\\n\\n\\n'"
      ]
     },
     "execution_count": 2,
     "metadata": {},
     "output_type": "execute_result"
    }
   ],
   "source": [
    "\"\"\"\n",
    "A Python library is a collection of pre-written code and functions that \n",
    "are bundled together for reuse by developers. These libraries are designed \n",
    "to provide a set of tools and functionality to help developers solve \n",
    "common problems, perform specific tasks, or implement certain features in\n",
    "their Python programs. Libraries can be written in Python or in other \n",
    "languages but accessible from Python through interfaces.\n",
    "\n",
    "\n",
    "\"\"\""
   ]
  },
  {
   "cell_type": "code",
   "execution_count": 3,
   "id": "1e020bda-776e-472d-8625-5aadd6f2549e",
   "metadata": {},
   "outputs": [],
   "source": [
    "#2. What is the difference between Numpy array and List?"
   ]
  },
  {
   "cell_type": "code",
   "execution_count": 4,
   "id": "bfc4aef5-ef6f-4e8d-83c9-cc8926444599",
   "metadata": {},
   "outputs": [
    {
     "data": {
      "text/plain": [
       "array([2, 4, 6])"
      ]
     },
     "execution_count": 4,
     "metadata": {},
     "output_type": "execute_result"
    }
   ],
   "source": [
    "\"\"\"\n",
    "Type of Elements:\n",
    "\n",
    "List: A Python list can contain elements of different data types, \n",
    "      including integers, floats, strings, or even other lists.\n",
    "NumPy Array: NumPy arrays are homogeneous, meaning that all elements must \n",
    "            be of the same data type. This homogeneity allows for more \n",
    "            efficient storage and operations.\n",
    "\n",
    "Performance:\n",
    "List: Lists are generally more flexible but may be less efficient for \n",
    "      numerical operations due to their dynamic typing and lack of pre-compiled operations.\n",
    "NumPy Array: NumPy arrays are more efficient for numerical and \n",
    "            mathematical operations. They are implemented in C and allow for vectorized operations, which can significantly improve performance for large datasets.\n",
    "\n",
    "Memory Usage:\n",
    "List: Lists can be less memory-efficient because they store additional \n",
    "      information (like data type and reference count) for each element.\n",
    "NumPy Array: NumPy arrays are more memory-efficient as they store elements\n",
    "            in a contiguous block of memory without the overhead of \n",
    "            per-element information.\n",
    "\n",
    "Syntax and Usage:\n",
    "List: Lists are part of the core Python language and have a more \n",
    "     straightforward syntax for simple data structures.\n",
    "NumPy Array: NumPy provides a specialized array object with its own set of\n",
    "            functions and methods optimized for numerical operations. It \n",
    "            introduces a more sophisticated syntax for array manipulation.\n",
    "\n",
    "Functionality:\n",
    "List: Lists offer a basic set of operations for general-purpose use.\n",
    "NumPy Array: NumPy arrays provide a wide range of mathematical and logical\n",
    "functions that are essential for numerical computing, making them well-suited\n",
    "for tasks like linear algebra, statistical analysis, and signal processing.\n",
    "\n",
    "\"\"\"\n",
    "\n",
    "# Using a list\n",
    "python_list = [1, 2, 3]\n",
    "python_list + python_list  # Concatenation, not element-wise addition\n",
    "\n",
    "# Using a NumPy array\n",
    "import numpy as np\n",
    "numpy_array = np.array([1, 2, 3])\n",
    "numpy_array + numpy_array  # Element-wise addition\n"
   ]
  },
  {
   "cell_type": "code",
   "execution_count": 17,
   "id": "17f4fded-4706-409c-93d6-86e0a180b8b8",
   "metadata": {},
   "outputs": [
    {
     "name": "stdout",
     "output_type": "stream",
     "text": [
      "array shape : (3, 4)\n",
      "array size : 12\n",
      "array dimension : 2\n"
     ]
    }
   ],
   "source": [
    "\"\"\"3. Find the shape, size and dimension of the following array?\n",
    "\n",
    "[[1, 2, 3, 4]\n",
    "[5, 6, 7, 8],\n",
    "[9, 10, 11, 12]]\n",
    "\"\"\"\n",
    "\n",
    "import numpy as np\n",
    "\n",
    "arr1 = np.array([[1,2,3,4],[5,6,7,8],[9,10,11,12]])\n",
    "\n",
    "print(\"array shape :\",arr1.shape)\n",
    "print(\"array size :\", arr1.size)\n",
    "print(\"array dimension :\",arr1.ndim)\n"
   ]
  },
  {
   "cell_type": "code",
   "execution_count": 24,
   "id": "f85e0283-9d50-470c-a1ef-abefd4926f41",
   "metadata": {},
   "outputs": [
    {
     "name": "stdout",
     "output_type": "stream",
     "text": [
      "first row of array : [[1 2 3 4]]\n"
     ]
    }
   ],
   "source": [
    "\"\"\"\n",
    "4. Write python code to access the first row of the following array?\n",
    "[[1, 2, 3, 4]\n",
    "[5, 6, 7, 8],\n",
    "[9, 10, 11, 12]]\n",
    "\n",
    "\"\"\"\n",
    "import numpy as np\n",
    "arr2 = np.array([[1, 2, 3, 4],[5, 6, 7, 8],[9, 10, 11, 12]])\n",
    "\n",
    "print(\"first row of array :\",arr2[0:1])"
   ]
  },
  {
   "cell_type": "code",
   "execution_count": 30,
   "id": "50db6f21-5152-425a-90df-e63f0658ccaa",
   "metadata": {},
   "outputs": [
    {
     "name": "stdout",
     "output_type": "stream",
     "text": [
      "third row and fourth column : 12\n"
     ]
    }
   ],
   "source": [
    "\"\"\"\n",
    "5. How do you access the element at the third row and fourth column from \n",
    "the given numpy array?\n",
    "[[1, 2, 3, 4]\n",
    "[5, 6, 7, 8],\n",
    "[9, 10, 11, 12]]\n",
    "\n",
    "\"\"\"\n",
    "\n",
    "import numpy as np\n",
    "arr3 = np.array([[1, 2, 3, 4],[5, 6, 7, 8],[9, 10, 11, 12]])\n",
    "\n",
    "print(\"third row and fourth column :\", arr3[2,3])"
   ]
  },
  {
   "cell_type": "code",
   "execution_count": 39,
   "id": "4a63a1e0-7aa1-4027-b394-fcc64448bacd",
   "metadata": {},
   "outputs": [
    {
     "name": "stdout",
     "output_type": "stream",
     "text": [
      "[[ 2  4]\n",
      " [ 6  8]\n",
      " [10 12]]\n"
     ]
    }
   ],
   "source": [
    "\"\"\"\n",
    "6. Write code to extract all odd-indexed elements from the given numpy \n",
    "array?\n",
    "[[1, 2, 3, 4]\n",
    "[5, 6, 7, 8],\n",
    "[9, 10, 11, 12]]\n",
    "\n",
    "\"\"\"\n",
    "\n",
    "import numpy as np\n",
    "\n",
    "# Given NumPy array\n",
    "my_array = np.array([\n",
    "    [1, 2, 3, 4],\n",
    "    [5, 6, 7, 8],\n",
    "    [9, 10, 11, 12]\n",
    "])\n",
    "\n",
    "# Extracting all odd-indexed elements\n",
    "odd_indexed_elements = my_array[::, 1::2]\n",
    "\n",
    "print(odd_indexed_elements)\n"
   ]
  },
  {
   "cell_type": "code",
   "execution_count": 45,
   "id": "69cdefcd-ec23-4365-a533-c0022e11361c",
   "metadata": {},
   "outputs": [
    {
     "name": "stdout",
     "output_type": "stream",
     "text": [
      "[[0.23978434 0.56036614 0.27431782]\n",
      " [0.41018929 0.69477701 0.99282991]\n",
      " [0.66470456 0.54116307 0.82347784]]\n"
     ]
    }
   ],
   "source": [
    "\"\"\"\n",
    "7. How can you generate a random 3x3 matrix with values between 0 and 1?\n",
    "\"\"\"\n",
    "import numpy as np\n",
    "\n",
    "# Generate a random 3x3 matrix with values between 0 and 1\n",
    "random_matrix = np.random.rand(3, 3)\n",
    "\n",
    "print(random_matrix)\n"
   ]
  },
  {
   "cell_type": "code",
   "execution_count": 48,
   "id": "9d410711-e397-4873-8a51-32061577da9f",
   "metadata": {},
   "outputs": [
    {
     "name": "stdout",
     "output_type": "stream",
     "text": [
      "[[0.04383842 0.50302285 0.89714636]\n",
      " [0.10440112 0.19029498 0.42140485]]\n",
      "[[-1.84614519  0.45525244  1.82812516]\n",
      " [ 0.14601647  0.03579727  0.25261079]]\n"
     ]
    }
   ],
   "source": [
    "\"\"\"\n",
    "8. Describe the difference between np.random.rand and np.random.randn?\n",
    "\n",
    "\"\"\"\n",
    "\"\"\"\n",
    "np.random.rand:\n",
    "\n",
    "Generates random numbers from a uniform distribution over the interval [0, 1).\n",
    "Takes dimensions as separate arguments rather than a tuple.\n",
    "Returns an array with specified dimensions, where each element is a random\n",
    "number between 0 (inclusive) and 1 (exclusive).\n",
    "\"\"\"\n",
    "import numpy as np\n",
    "\n",
    "# Generate a 2x3 matrix with random values between 0 and 1\n",
    "random_matrix = np.random.rand(2, 3)\n",
    "print(random_matrix)\n",
    "\"\"\"\n",
    "np.random.randn:\n",
    "\n",
    "Generates random numbers from a standard normal distribution (mean 0, \n",
    "standard deviation 1).\n",
    "Takes dimensions as separate arguments rather than a tuple.\n",
    "Returns an array with specified dimensions, where each element is a \n",
    "random number sampled from a standard normal distribution.\n",
    "\n",
    "\"\"\"\n",
    "import numpy as np\n",
    "\n",
    "# Generate a 2x3 matrix with random values from a standard normal distribution\n",
    "random_matrix_standard_normal = np.random.randn(2, 3)\n",
    "print(random_matrix_standard_normal)"
   ]
  },
  {
   "cell_type": "code",
   "execution_count": 49,
   "id": "263b328b-05ec-45f9-8cb0-5b9ddf02b62c",
   "metadata": {},
   "outputs": [
    {
     "name": "stdout",
     "output_type": "stream",
     "text": [
      "Original Array:\n",
      "[[ 1  2  3  4]\n",
      " [ 5  6  7  8]\n",
      " [ 9 10 11 12]]\n",
      "\n",
      "Array with Increased Dimension:\n",
      "[[[ 1]\n",
      "  [ 2]\n",
      "  [ 3]\n",
      "  [ 4]]\n",
      "\n",
      " [[ 5]\n",
      "  [ 6]\n",
      "  [ 7]\n",
      "  [ 8]]\n",
      "\n",
      " [[ 9]\n",
      "  [10]\n",
      "  [11]\n",
      "  [12]]]\n"
     ]
    }
   ],
   "source": [
    "\"\"\"\n",
    "9. Write code to increase the dimension of the following array?\n",
    "[[1, 2, 3, 4]\n",
    "[5, 6, 7, 8],\n",
    "[9, 10, 11, 12]]\n",
    "\n",
    "\"\"\"\n",
    "\n",
    "import numpy as np\n",
    "\n",
    "# Given array\n",
    "original_array = np.array([\n",
    "    [1, 2, 3, 4],\n",
    "    [5, 6, 7, 8],\n",
    "    [9, 10, 11, 12]\n",
    "])\n",
    "\n",
    "# Increase the dimension along a new axis (axis=2 in this example)\n",
    "increased_dimension_array = original_array[:, :, np.newaxis]\n",
    "\n",
    "print(\"Original Array:\")\n",
    "print(original_array)\n",
    "print(\"\\nArray with Increased Dimension:\")\n",
    "print(increased_dimension_array)\n"
   ]
  },
  {
   "cell_type": "code",
   "execution_count": 54,
   "id": "81b85bed-9422-497d-91fa-0684c3e860ad",
   "metadata": {},
   "outputs": [
    {
     "name": "stdout",
     "output_type": "stream",
     "text": [
      "transpose :\n",
      "[[ 1  5  9]\n",
      " [ 2  6 10]\n",
      " [ 3  7 11]\n",
      " [ 4  8 12]]\n"
     ]
    }
   ],
   "source": [
    "\"\"\"\n",
    "10. How to transpose the following array in NumPy?\n",
    "[[1, 2, 3, 4]\n",
    "[5, 6, 7, 8],\n",
    "[9, 10, 11, 12]]\n",
    "\n",
    "\"\"\"\n",
    "arr10 = np.array([[1, 2, 3, 4],[5, 6, 7, 8],[9, 10, 11, 12]])\n",
    "\n",
    "print(\"transpose :\")\n",
    "print(arr10.T)"
   ]
  },
  {
   "cell_type": "code",
   "execution_count": 64,
   "id": "97957ae9-eea4-4fe9-a456-109258495d03",
   "metadata": {},
   "outputs": [
    {
     "name": "stdout",
     "output_type": "stream",
     "text": [
      "1. Index whiLe multiplication\n",
      "[[  1   4   9  16]\n",
      " [ 25  36  49  64]\n",
      " [ 81 100 121 144]]\n",
      "2. Matrix multiplication\n",
      "[[ 30  70 110]\n",
      " [ 70 174 278]\n",
      " [110 278 446]]\n",
      "3. Add both the matix\n",
      "[[ 2  4  6  8]\n",
      " [10 12 14 16]\n",
      " [18 20 22 24]]\n",
      "4. substract B from A\n",
      "[[0 0 0 0]\n",
      " [0 0 0 0]\n",
      " [0 0 0 0]]\n",
      "5. divid Matrix B by A\n",
      "[[1. 1. 1. 1.]\n",
      " [1. 1. 1. 1.]\n",
      " [1. 1. 1. 1.]]\n"
     ]
    }
   ],
   "source": [
    "\"\"\"\n",
    "11. Consider the following matrix:\n",
    "Matrix A2 [[1, 2, 3, 4] [5, 6, 7, 8],[9, 10, 11, 12]]\n",
    "Matrix B2 [[1, 2, 3, 4] [5, 6, 7, 8],[9, 10, 11, 12]]\n",
    "\n",
    "Perform the following operation using Python1\n",
    "1. Index wiLe multiplication\n",
    "2. Matix multiplication\n",
    "3. Add both the maticK\n",
    "4. Subtact matix B om \n",
    "5. Divide Matix B by A\n",
    "\"\"\"\n",
    "a2 = np.array([[1, 2, 3, 4],[5, 6, 7, 8],[9, 10, 11, 12]])\n",
    "b2 = np.array([[1, 2, 3, 4],[5, 6, 7, 8],[9, 10, 11, 12]])\n",
    "print(\"1. Index whiLe multiplication\")\n",
    "print(a2*b2)\n",
    "print(\"2. Matrix multiplication\")\n",
    "print(a2 @ b2.T)\n",
    "print(\"3. Add both the matix\")\n",
    "print(a2 + b2)\n",
    "print(\"4. substract B from A\")\n",
    "print(a2-b2)\n",
    "print(\"5. divid Matrix B by A\")\n",
    "print(a2/b2)\n"
   ]
  },
  {
   "cell_type": "code",
   "execution_count": 65,
   "id": "3f47bb9d-9b6f-48e5-81bb-ca2e32ad2504",
   "metadata": {},
   "outputs": [
    {
     "name": "stdout",
     "output_type": "stream",
     "text": [
      "Original Array:\n",
      "[1 2 3 4]\n",
      "\n",
      "Array after Byte Swapping:\n",
      "[16777216 33554432 50331648 67108864]\n"
     ]
    }
   ],
   "source": [
    "\"\"\"\n",
    "12. Which function in Numpy can be used to swap the byte order of an array?\n",
    "\"\"\"\n",
    "\"\"\"\n",
    "The function np.ndarray.byteswap() in NumPy can be used to swap the byte \n",
    "order of an array. It swaps the byte order of the array elements in place. Here's an example:\n",
    "\"\"\"\n",
    "import numpy as np\n",
    "\n",
    "# Create an array with integers\n",
    "original_array = np.array([1, 2, 3, 4], dtype=np.int32)\n",
    "\n",
    "# Swap byte order\n",
    "swapped_array = original_array.byteswap()\n",
    "\n",
    "print(\"Original Array:\")\n",
    "print(original_array)\n",
    "print(\"\\nArray after Byte Swapping:\")\n",
    "print(swapped_array)\n"
   ]
  },
  {
   "cell_type": "code",
   "execution_count": 66,
   "id": "9c9e48ed-fe26-400c-a0ef-92a9e4e23209",
   "metadata": {},
   "outputs": [
    {
     "name": "stdout",
     "output_type": "stream",
     "text": [
      "Original Matrix:\n",
      "[[2 1]\n",
      " [7 4]]\n",
      "\n",
      "Inverse Matrix:\n",
      "[[ 4. -1.]\n",
      " [-7.  2.]]\n"
     ]
    }
   ],
   "source": [
    "\"\"\"\n",
    "13. What is the significance of the np.linalg.inv function?\n",
    "\"\"\"\n",
    "\"\"\"\n",
    "The np.linalg.inv function in NumPy is used to compute the \n",
    "(multiplicative) inverse of a matrix. For a square matrix A, the inverse \n",
    "matrix A_inv is such that A @ A_inv = A_inv @ A = I, where I is the \n",
    "identity matrix. This function is significant in linear algebra and is \n",
    "often used to solve systems of linear equations, among other applications.\n",
    "\n",
    "\n",
    "\"\"\"\n",
    "import numpy as np\n",
    "\n",
    "# Define a 2x2 matrix\n",
    "matrix_a = np.array([[2, 1],\n",
    "                    [7, 4]])\n",
    "\n",
    "# Compute the inverse of the matrix\n",
    "matrix_a_inv = np.linalg.inv(matrix_a)\n",
    "\n",
    "print(\"Original Matrix:\")\n",
    "print(matrix_a)\n",
    "print(\"\\nInverse Matrix:\")\n",
    "print(matrix_a_inv)\n"
   ]
  },
  {
   "cell_type": "code",
   "execution_count": null,
   "id": "cc00e6de-28ab-49b8-a8eb-27e55b49e0ad",
   "metadata": {},
   "outputs": [],
   "source": [
    "\"\"\"\n",
    "14. What does the np.reshape function do, and how is it used?\n",
    "\"\"\"\n",
    "\n",
    "\"\"\"\n",
    "The np.reshape function is used to change the shape of an array without \n",
    "changing its data. It returns a new array with the specified shape. The \n",
    "function takes the desired shape as an argument. Here's an example:\n",
    "\"\"\"\n",
    "import numpy as np\n",
    "\n",
    "# Create a 1D array\n",
    "original_array = np.array([1, 2, 3, 4, 5, 6])\n",
    "\n",
    "# Reshape to a 2D array with 2 rows and 3 columns\n",
    "reshaped_array = np.reshape(original_array, (2, 3))\n",
    "\n",
    "print(\"Original Array:\")\n",
    "print(original_array)\n",
    "print(\"\\nReshaped Array:\")\n",
    "print(reshaped_array)\n"
   ]
  },
  {
   "cell_type": "code",
   "execution_count": null,
   "id": "4dcec3b8-4496-4eaa-9f2b-4b5b68583a51",
   "metadata": {},
   "outputs": [],
   "source": [
    "\"\"\"\n",
    "15. What is broadcasting in Numpy?\n",
    "\"\"\"\n",
    "\n",
    "\"\"\"\n",
    "Broadcasting is a powerful feature in NumPy that allows operations \n",
    "between arrays of different shapes and sizes. NumPy automatically \n",
    "broadcasts the smaller array to match the shape of the larger array, \n",
    "making element-wise operations possible without the need for explicit \n",
    "looping.\n",
    "\n",
    "\"\"\"\n",
    "\n",
    "import numpy as np\n",
    "\n",
    "# Create a 2x3 matrix\n",
    "matrix_a = np.array([[1, 2, 3],\n",
    "                    [4, 5, 6]])\n",
    "\n",
    "# Add a scalar to each element using broadcasting\n",
    "result = matrix_a + 10\n",
    "\n",
    "print(\"Original Matrix:\")\n",
    "print(matrix_a)\n",
    "print(\"\\nResult after Broadcasting:\")\n",
    "print(result)\n"
   ]
  },
  {
   "cell_type": "code",
   "execution_count": null,
   "id": "ae634ca9-f4b4-466b-98e4-dbc56af56e18",
   "metadata": {},
   "outputs": [],
   "source": []
  }
 ],
 "metadata": {
  "kernelspec": {
   "display_name": "Python 3 (ipykernel)",
   "language": "python",
   "name": "python3"
  },
  "language_info": {
   "codemirror_mode": {
    "name": "ipython",
    "version": 3
   },
   "file_extension": ".py",
   "mimetype": "text/x-python",
   "name": "python",
   "nbconvert_exporter": "python",
   "pygments_lexer": "ipython3",
   "version": "3.10.8"
  }
 },
 "nbformat": 4,
 "nbformat_minor": 5
}
